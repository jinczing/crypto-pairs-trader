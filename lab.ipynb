{
 "cells": [
  {
   "cell_type": "markdown",
   "id": "fc697678",
   "metadata": {},
   "source": [
    "# Import"
   ]
  },
  {
   "cell_type": "code",
   "execution_count": 145,
   "id": "9ef45145",
   "metadata": {},
   "outputs": [],
   "source": [
    "from jesse.strategies import Strategy, cached\n",
    "import jesse.indicators as ta\n",
    "from jesse import utils\n",
    "from jesse import research\n",
    "from pprint import pprint\n",
    "from pykalman import KalmanFilter\n",
    "import numpy as np\n",
    "from datetime import datetime, timedelta\n",
    "import statsmodels.api as sm\n",
    "import requests\n",
    "import pandas as pd\n",
    "import time\n",
    "import tqdm\n",
    "import json\n",
    "import pickle\n",
    "import missingno\n",
    "import sys\n",
    "from sklearn.manifold import TSNE\n",
    "from sklearn import linear_model\n",
    "import plotly.express as px\n",
    "from matplotlib import pyplot as plt\n",
    "from sklearn.cluster import AgglomerativeClustering\n",
    "import scipy.cluster.hierarchy as sch\n",
    "from sklearn.decomposition import PCA\n",
    "import statsmodels.api as sm\n",
    "import itertools\n",
    "from itertools import product\n",
    "from collections import Counter"
   ]
  },
  {
   "cell_type": "markdown",
   "id": "de10e9bd",
   "metadata": {},
   "source": [
    "# Data Preparation and Preprocessing"
   ]
  },
  {
   "cell_type": "markdown",
   "id": "fc39579e",
   "metadata": {},
   "source": [
    "### Glassnode Preparation"
   ]
  },
  {
   "cell_type": "code",
   "execution_count": 2,
   "id": "530c737a",
   "metadata": {},
   "outputs": [],
   "source": [
    "# Dataset Loading\n",
    "with open('./glassnode_defis', 'rb') as f:\n",
    "    gn_defis = pickle.load(f)"
   ]
  },
  {
   "cell_type": "code",
   "execution_count": 3,
   "id": "a08d5fb9",
   "metadata": {},
   "outputs": [
    {
     "name": "stderr",
     "output_type": "stream",
     "text": [
      "100%|███████████████████████████████████████████| 15/15 [00:01<00:00,  8.34it/s]\n"
     ]
    }
   ],
   "source": [
    "# extract glassnode dataframe\n",
    "gn_dict = {}\n",
    "for a in tqdm.tqdm(gn_defis.keys()):\n",
    "    cols = []\n",
    "    for k in (gn_defis[a].keys()):\n",
    "        if not gn_defis[a][k]: continue\n",
    "        _d = pd.DataFrame(gn_defis[a][k]).rename(columns={'t': 'date', \"v\": k})\n",
    "        _d['date'] = pd.to_datetime(_d['date'], unit='s')\n",
    "        _d = _d.set_index('date')\n",
    "        cols.append(_d)\n",
    "    gn_dict[a] = pd.concat(cols, axis=1)"
   ]
  },
  {
   "cell_type": "code",
   "execution_count": 604,
   "id": "8ca98470",
   "metadata": {},
   "outputs": [],
   "source": [
    "finals = {'AAVE',\n",
    " 'BAL',\n",
    "#  'CELR', ## llama little\n",
    " 'COMP',\n",
    " 'CRV',\n",
    " 'DODO', \n",
    " #'LDO', ## little\n",
    " 'LRC',\n",
    " 'MKR',\n",
    " 'REN',\n",
    " #'RSR', ## glassnode inconsistent\n",
    " 'SNX',\n",
    " 'SUSHI',\n",
    " 'UNI',\n",
    " 'YFI'}"
   ]
  },
  {
   "cell_type": "code",
   "execution_count": 608,
   "id": "9b7a16b6",
   "metadata": {},
   "outputs": [],
   "source": [
    "with open('universe_symbols', 'wb') as f:\n",
    "    pickle.dump(list(finals), f)"
   ]
  },
  {
   "cell_type": "code",
   "execution_count": 5,
   "id": "71217569",
   "metadata": {},
   "outputs": [
    {
     "data": {
      "text/plain": [
       "Timestamp('2020-10-02 00:00:00')"
      ]
     },
     "execution_count": 5,
     "metadata": {},
     "output_type": "execute_result"
    }
   ],
   "source": [
    "for final in finals:\n",
    "    gn_dict[final].drop('o', inplace=True, axis=1)\n",
    "_t = []\n",
    "for final in finals:\n",
    "    _t.append(gn_dict[final].index.min())\n",
    "_t = pd.Series(_t)\n",
    "start_date = _t.max()\n",
    "start_date"
   ]
  },
  {
   "cell_type": "markdown",
   "id": "bb025782",
   "metadata": {},
   "source": [
    "### Glassnode Preprocessing"
   ]
  },
  {
   "cell_type": "code",
   "execution_count": 6,
   "id": "bc1c25bc",
   "metadata": {},
   "outputs": [],
   "source": [
    "exclude_cols = [\n",
    "#     'uniswap_liquidity_latest',\n",
    "    \n",
    "]\n",
    "miss_cols = [\n",
    "    'non_zero_count',\n",
    "    'nvt',\n",
    "    'nvts',\n",
    "    'velocity',\n",
    "    'transfers_between_exchanges_count',\n",
    "    'transfers_volume_between_exchanges_sum',\n",
    "    'transfers_volume_to_exchanges_mean',\n",
    "    'transfers_volume_from_exchanges_mean',\n",
    "    'transfers_volume_exchanges_net',\n",
    "    'transfers_to_exchanges_count',\n",
    "    'transfers_from_exchanges_count',\n",
    "    'transfers_volume_to_exchanges_sum',\n",
    "    'transfers_volume_from_exchanges_sum',\n",
    "    'transfers_volume_within_exchanges_sum',\n",
    "    'balance_exchanges', \n",
    "    'exchange_net_position_change',\n",
    "    'balance_exchanges_relative',\n",
    "    'balance_1pct_holders',\n",
    "    'gini',\n",
    "    'herfindahl', \n",
    "    'supply_contracts'\n",
    "]\n",
    "cum_cols = [\n",
    "    'count'\n",
    "]\n",
    "norm_cols = [\n",
    "    'transfers_rate'\n",
    "]"
   ]
  },
  {
   "cell_type": "code",
   "execution_count": 7,
   "id": "cf79cb95",
   "metadata": {},
   "outputs": [
    {
     "name": "stderr",
     "output_type": "stream",
     "text": [
      "100%|███████████████████████████████████████████| 12/12 [00:00<00:00, 33.38it/s]\n"
     ]
    }
   ],
   "source": [
    "# exclude missing columes\n",
    "# exclude big number (only for uniswap series)\n",
    "# fillna\n",
    "gn_dict_clean = gn_dict.copy()\n",
    "for final in tqdm.tqdm(finals):\n",
    "    for c in gn_dict_clean[final].columns:\n",
    "        if c in miss_cols:\n",
    "            gn_dict_clean[final].drop(c, axis=1, inplace=True)\n",
    "        if 'uniswap' in c:\n",
    "            gn_dict_clean[final][c].clip(upper=10e10, inplace=True)\n",
    "            gn_dict_clean[final][c].loc[gn_dict_clean[final][c]>=10e10] = pd.NA\n",
    "    gn_dict_clean[final].ffill(inplace=True)\n",
    "    gn_dict_clean[final].fillna(0, inplace=True)"
   ]
  },
  {
   "cell_type": "code",
   "execution_count": 8,
   "id": "3132d119",
   "metadata": {},
   "outputs": [
    {
     "name": "stdout",
     "output_type": "stream",
     "text": [
      "(807, 38)\n",
      "(841, 38)\n",
      "(908, 38)\n",
      "(1471, 38)\n",
      "(1846, 38)\n",
      "(804, 38)\n",
      "(855, 38)\n",
      "(822, 38)\n",
      "(1016, 38)\n",
      "(881, 38)\n",
      "(1763, 38)\n",
      "(1810, 38)\n"
     ]
    }
   ],
   "source": [
    "# add relative difference (return) for all columns\n",
    "# for each clustering period, calculate the mean of all features and concat them as feature vector 19*2\n",
    "# cross-sectionally normalize each feature to eiminate scale bias\n",
    "gn_dict_return = {}\n",
    "for final in finals:\n",
    "    _df = gn_dict_clean[final].diff()/gn_dict_clean[final].shift(1)\n",
    "    cs = list(_df.columns)\n",
    "    for i in range(len(cs)):\n",
    "        cs[i] = cs[i]+'_return'\n",
    "    _df.columns = cs\n",
    "    gn_dict_return[final] = _df\n",
    "    gn_dict_clean[final] = pd.concat([gn_dict_clean[final], _df], axis=1)\n",
    "    \n",
    "for final in finals:\n",
    "    gn_dict_clean[final].fillna(0, inplace=True)\n",
    "    gn_dict_clean[final].replace([np.inf, -np.inf], 0, inplace=True)  \n",
    "    print(gn_dict_clean[final].shape)"
   ]
  },
  {
   "cell_type": "markdown",
   "id": "ce83fc82",
   "metadata": {},
   "source": [
    "### DeFiLlama Preparation and Preprocessing"
   ]
  },
  {
   "cell_type": "code",
   "execution_count": 9,
   "id": "59ac26c0",
   "metadata": {},
   "outputs": [],
   "source": [
    "with open('./defillama_defis', 'rb') as f:\n",
    "    llama_dict = pickle.load(f)"
   ]
  },
  {
   "cell_type": "code",
   "execution_count": 10,
   "id": "2570dd9f",
   "metadata": {},
   "outputs": [
    {
     "name": "stderr",
     "output_type": "stream",
     "text": [
      "100%|███████████████████████████████████████████| 12/12 [00:00<00:00, 56.68it/s]\n"
     ]
    }
   ],
   "source": [
    "llama_dfs = {}\n",
    "for final in tqdm.tqdm(finals):\n",
    "    cols = []\n",
    "    for chain in llama_dict[final]['chainTvls'].keys():\n",
    "        if not chain.isalpha() or not chain[0].isupper():\n",
    "            continue\n",
    "        _d = pd.DataFrame(llama_dict[final]['chainTvls'][chain]['tvl']).rename(columns={'totalLiquidityUSD': chain})\n",
    "        _d['date'] = pd.to_datetime(_d['date'], unit='s')\n",
    "        _d = _d.set_index('date')\n",
    "        cols.append(_d)\n",
    "    llama_dfs[final] = pd.concat(cols, axis=1).ffill().fillna(0)\n",
    "    \n",
    "for k in llama_dfs.keys():\n",
    "    llama_dfs[k] = llama_dfs[k].apply(lambda r: r/r.sum(), axis=1).ffill().fillna(0).replace([np.inf, -np.inf], 0)"
   ]
  },
  {
   "cell_type": "code",
   "execution_count": 11,
   "id": "8562ae19",
   "metadata": {},
   "outputs": [
    {
     "name": "stderr",
     "output_type": "stream",
     "text": [
      "100%|██████████████████████████████████████████| 12/12 [00:00<00:00, 293.41it/s]\n"
     ]
    }
   ],
   "source": [
    "cs = []\n",
    "for final in finals:\n",
    "    for c in llama_dfs[final].columns:\n",
    "        cs.append(c)\n",
    "        \n",
    "cs = set(cs)\n",
    "\n",
    "llama_chain = {}\n",
    "for final in tqdm.tqdm(finals):\n",
    "    _n = []\n",
    "    for c in cs:\n",
    "        if c in llama_dfs[final].columns:\n",
    "            _n.append(llama_dfs[final][c])\n",
    "        else:\n",
    "            _s = pd.Series(np.zeros(llama_dfs[final].shape[0]))\n",
    "            _s.name = c\n",
    "            _s.index = llama_dfs[final].iloc[:, 0].index\n",
    "            _n.append(_s)\n",
    "    llama_chain[final] = pd.concat(_n, axis=1)"
   ]
  },
  {
   "cell_type": "code",
   "execution_count": 12,
   "id": "f6e18bfd",
   "metadata": {},
   "outputs": [
    {
     "name": "stderr",
     "output_type": "stream",
     "text": [
      "100%|██████████████████████████████████████████| 12/12 [00:00<00:00, 199.50it/s]\n"
     ]
    }
   ],
   "source": [
    "llama_tvl = {}\n",
    "for final in tqdm.tqdm(finals):\n",
    "    _d = pd.DataFrame(llama_dict[final]['tvl']).rename(columns={'totalLiquidityUSD': 'TVL'})\n",
    "    _d['date'] = pd.to_datetime(_d['date'], unit='s')\n",
    "    _d = _d.set_index('date')\n",
    "    _d['TVL_return'] = _d['TVL'].diff()/_d['TVL'].shift(1)\n",
    "    _d.fillna(0, inplace=True)\n",
    "    _d.replace([np.inf, -np.inf], 0, inplace=True)\n",
    "    llama_tvl[final] = _d"
   ]
  },
  {
   "cell_type": "markdown",
   "id": "3e56553f",
   "metadata": {},
   "source": [
    "### Overall Preprocessing"
   ]
  },
  {
   "cell_type": "code",
   "execution_count": 13,
   "id": "ce659632",
   "metadata": {
    "scrolled": true
   },
   "outputs": [
    {
     "name": "stdout",
     "output_type": "stream",
     "text": [
      "DODO 2020-09-29 00:00:00 2020-11-09 23:00:00 2020-11-09 23:00:00\n",
      "SUSHI 2020-08-26 00:00:00 2020-09-04 22:00:00 2020-09-04 22:00:00\n",
      "BAL 2020-06-20 00:00:00 2020-03-23 23:00:00 2020-03-23 23:00:00\n",
      "SNX 2018-12-05 00:00:00 2019-08-09 22:00:00 2019-08-09 22:00:00\n",
      "MKR 2017-11-25 00:00:00 2019-01-04 00:00:00 2019-01-04 00:00:00\n",
      "AAVE 2020-10-02 00:00:00 2020-05-20 00:00:00 2020-05-20 00:00:00\n",
      "CRV 2020-08-12 00:00:00 2020-02-09 00:00:00 2020-02-09 00:00:00\n",
      "UNI 2020-09-14 00:00:00 2018-11-03 00:00:00 2018-11-03 00:00:00\n",
      "COMP 2020-03-04 00:00:00 2019-05-07 22:00:00 2019-05-07 22:00:00\n",
      "YFI 2020-07-17 00:00:00 2020-02-12 23:00:00 2020-02-12 23:00:00\n",
      "LRC 2018-02-16 00:00:00 2020-08-30 00:00:00 2020-08-30 00:00:00\n",
      "REN 2017-12-31 00:00:00 2020-10-25 23:00:00 2020-10-25 23:00:00\n"
     ]
    }
   ],
   "source": [
    "_t = []\n",
    "for final in finals:\n",
    "    gn = gn_dict_clean[final].index.min()\n",
    "    chain = llama_chain[final].index.min()\n",
    "    tvl = llama_chain[final].index.min()\n",
    "    print(final, gn, chain, tvl)\n",
    "    _t.append(pd.Series([gn, chain, tvl]).max())\n",
    "    \n",
    "_t = pd.Series(_t)\n",
    "start_date = _t.max()\n",
    "end_date = pd.to_datetime('2022-12-01')"
   ]
  },
  {
   "cell_type": "code",
   "execution_count": 574,
   "id": "23b2a47a",
   "metadata": {},
   "outputs": [
    {
     "name": "stdout",
     "output_type": "stream",
     "text": [
      "DODO 0 0 0\n",
      "SUSHI 0 0 0\n",
      "BAL 0 0 0\n",
      "SNX 0 0 0\n",
      "MKR 0 0 0\n",
      "AAVE 0 0 0\n",
      "CRV 0 0 0\n",
      "UNI 0 0 0\n",
      "COMP 0 0 0\n",
      "YFI 0 0 0\n",
      "LRC 0 0 0\n",
      "REN 0 0 0\n"
     ]
    },
    {
     "name": "stderr",
     "output_type": "stream",
     "text": [
      "100%|███████████████████████████████████████████| 12/12 [00:00<00:00, 18.75it/s]"
     ]
    },
    {
     "name": "stdout",
     "output_type": "stream",
     "text": [
      "DODO 0\n",
      "SUSHI 0\n",
      "BAL 0\n",
      "SNX 0\n",
      "MKR 0\n",
      "AAVE 0\n",
      "CRV 0\n",
      "UNI 0\n",
      "COMP 0\n",
      "YFI 0\n",
      "LRC 0\n",
      "REN 0\n"
     ]
    },
    {
     "name": "stderr",
     "output_type": "stream",
     "text": [
      "\n"
     ]
    }
   ],
   "source": [
    "for final in finals:\n",
    "    _a = (gn_dict_clean[final].isna().any().sum())\n",
    "    _b = (llama_chain[final].isna().any().sum())\n",
    "    _c = (llama_tvl[final].isna().any().sum())\n",
    "    print(final, _a, _b, _c)\n",
    "    \n",
    "idx = pd.date_range(start_date.strftime(\"%m/%d/%Y\"), end_date.strftime(\"%m/%d/%Y\"), inclusive='neither')\n",
    "idx.name = 'date'\n",
    "\n",
    "# dictionaries: gn_dict_clean, llama_chain, llama_tvl\n",
    "# clip to same length\n",
    "# concat data frames\n",
    "# apply rolling mean\n",
    "windows = [2, 4, 7, 14, 30] # , 90, 180, 360\n",
    "rolling = {}\n",
    "for final in tqdm.tqdm(finals):\n",
    "    gn = gn_dict_clean[final].query(f'date < \"{end_date}\"')\n",
    "    gn.index = gn.index.round('D')\n",
    "    gn = gn.reindex(idx, method='ffill')\n",
    "    gn = gn.query(f'date >= \"{start_date}\"')\n",
    "    chain = llama_chain[final].query(f'date < \"{end_date}\"')\n",
    "    chain.index = chain.index.round('D')\n",
    "    chain = chain.reindex(idx, method='ffill')\n",
    "    chain = chain.query(f'date >= \"{start_date}\"')\n",
    "    tvl = llama_tvl[final].query(f'date < \"{end_date}\"')\n",
    "    tvl.index = tvl.index.round('D')\n",
    "    tvl = tvl.reindex(idx, method='ffill')\n",
    "    tvl = tvl.query(f'date >= \"{start_date}\"')\n",
    "    \n",
    "    cs = []\n",
    "    for window in windows:\n",
    "        cs.append(gn.rolling(window).mean().ffill().fillna(0))\n",
    "    rolling[final] = pd.concat(cs, axis=1)\n",
    "    \n",
    "for final in finals:\n",
    "    rolling[final].dropna(how='all', inplace=True)\n",
    "    print(final, rolling[final].isna().any().sum())"
   ]
  },
  {
   "cell_type": "code",
   "execution_count": 384,
   "id": "0965b96c",
   "metadata": {},
   "outputs": [
    {
     "data": {
      "text/plain": [
       "Index(['count', 'sending_count', 'receiving_count', 'active_count',\n",
       "       'new_non_zero_count', 'transfers_count', 'transfers_rate',\n",
       "       'transfers_volume_sum', 'transfers_volume_mean',\n",
       "       'transfers_volume_median', 'proof_of_reserves', 'current', 'price_usd',\n",
       "       'price_usd_close', 'price_drawdown_relative', 'marketcap_usd',\n",
       "       'uniswap_transaction_count', 'uniswap_liquidity_latest',\n",
       "       'uniswap_volume_sum', 'count_return', 'sending_count_return',\n",
       "       'receiving_count_return', 'active_count_return',\n",
       "       'new_non_zero_count_return', 'transfers_count_return',\n",
       "       'transfers_rate_return', 'transfers_volume_sum_return',\n",
       "       'transfers_volume_mean_return', 'transfers_volume_median_return',\n",
       "       'proof_of_reserves_return', 'current_return', 'price_usd_return',\n",
       "       'price_usd_close_return', 'price_drawdown_relative_return',\n",
       "       'marketcap_usd_return', 'uniswap_transaction_count_return',\n",
       "       'uniswap_liquidity_latest_return', 'uniswap_volume_sum_return'],\n",
       "      dtype='object')"
      ]
     },
     "execution_count": 384,
     "metadata": {},
     "output_type": "execute_result"
    }
   ],
   "source": [
    "gn_dict_clean['AAVE'].columns"
   ]
  },
  {
   "cell_type": "code",
   "execution_count": 531,
   "id": "39625a8f",
   "metadata": {},
   "outputs": [
    {
     "data": {
      "text/plain": [
       "date\n",
       "2020-10-02    0.021030\n",
       "2020-10-03    0.042859\n",
       "2020-10-04    0.015706\n",
       "2020-10-05    0.011644\n",
       "2020-10-06    0.011169\n",
       "                ...   \n",
       "2022-12-10    0.011863\n",
       "2022-12-11    0.009838\n",
       "2022-12-12    0.016898\n",
       "2022-12-13    0.026389\n",
       "2022-12-14    0.026389\n",
       "Freq: D, Name: transfers_rate, Length: 804, dtype: float64"
      ]
     },
     "execution_count": 531,
     "metadata": {},
     "output_type": "execute_result"
    }
   ],
   "source": [
    "gn_dict_clean['AAVE']['transfers_rate']"
   ]
  },
  {
   "cell_type": "code",
   "execution_count": 502,
   "id": "8c244645",
   "metadata": {},
   "outputs": [
    {
     "data": {
      "text/html": [
       "<div>\n",
       "<style scoped>\n",
       "    .dataframe tbody tr th:only-of-type {\n",
       "        vertical-align: middle;\n",
       "    }\n",
       "\n",
       "    .dataframe tbody tr th {\n",
       "        vertical-align: top;\n",
       "    }\n",
       "\n",
       "    .dataframe thead th {\n",
       "        text-align: right;\n",
       "    }\n",
       "</style>\n",
       "<table border=\"1\" class=\"dataframe\">\n",
       "  <thead>\n",
       "    <tr style=\"text-align: right;\">\n",
       "      <th></th>\n",
       "      <th>TVL</th>\n",
       "      <th>TVL_return</th>\n",
       "    </tr>\n",
       "    <tr>\n",
       "      <th>date</th>\n",
       "      <th></th>\n",
       "      <th></th>\n",
       "    </tr>\n",
       "  </thead>\n",
       "  <tbody>\n",
       "    <tr>\n",
       "      <th>2020-11-10</th>\n",
       "      <td>2.947708e+08</td>\n",
       "      <td>-0.008693</td>\n",
       "    </tr>\n",
       "    <tr>\n",
       "      <th>2020-11-11</th>\n",
       "      <td>2.924975e+08</td>\n",
       "      <td>-0.007712</td>\n",
       "    </tr>\n",
       "    <tr>\n",
       "      <th>2020-11-12</th>\n",
       "      <td>3.013501e+08</td>\n",
       "      <td>0.030266</td>\n",
       "    </tr>\n",
       "    <tr>\n",
       "      <th>2020-11-13</th>\n",
       "      <td>3.138084e+08</td>\n",
       "      <td>0.041342</td>\n",
       "    </tr>\n",
       "    <tr>\n",
       "      <th>2020-11-14</th>\n",
       "      <td>3.143975e+08</td>\n",
       "      <td>0.001877</td>\n",
       "    </tr>\n",
       "    <tr>\n",
       "      <th>...</th>\n",
       "      <td>...</td>\n",
       "      <td>...</td>\n",
       "    </tr>\n",
       "    <tr>\n",
       "      <th>2022-11-26</th>\n",
       "      <td>6.220282e+07</td>\n",
       "      <td>-0.124234</td>\n",
       "    </tr>\n",
       "    <tr>\n",
       "      <th>2022-11-27</th>\n",
       "      <td>6.190831e+07</td>\n",
       "      <td>-0.004735</td>\n",
       "    </tr>\n",
       "    <tr>\n",
       "      <th>2022-11-28</th>\n",
       "      <td>5.988216e+07</td>\n",
       "      <td>-0.032728</td>\n",
       "    </tr>\n",
       "    <tr>\n",
       "      <th>2022-11-29</th>\n",
       "      <td>5.990621e+07</td>\n",
       "      <td>0.000401</td>\n",
       "    </tr>\n",
       "    <tr>\n",
       "      <th>2022-11-30</th>\n",
       "      <td>5.763279e+07</td>\n",
       "      <td>-0.037949</td>\n",
       "    </tr>\n",
       "  </tbody>\n",
       "</table>\n",
       "<p>751 rows × 2 columns</p>\n",
       "</div>"
      ],
      "text/plain": [
       "                     TVL  TVL_return\n",
       "date                                \n",
       "2020-11-10  2.947708e+08   -0.008693\n",
       "2020-11-11  2.924975e+08   -0.007712\n",
       "2020-11-12  3.013501e+08    0.030266\n",
       "2020-11-13  3.138084e+08    0.041342\n",
       "2020-11-14  3.143975e+08    0.001877\n",
       "...                  ...         ...\n",
       "2022-11-26  6.220282e+07   -0.124234\n",
       "2022-11-27  6.190831e+07   -0.004735\n",
       "2022-11-28  5.988216e+07   -0.032728\n",
       "2022-11-29  5.990621e+07    0.000401\n",
       "2022-11-30  5.763279e+07   -0.037949\n",
       "\n",
       "[751 rows x 2 columns]"
      ]
     },
     "execution_count": 502,
     "metadata": {},
     "output_type": "execute_result"
    }
   ],
   "source": [
    "tvl"
   ]
  },
  {
   "cell_type": "code",
   "execution_count": 602,
   "id": "921014b7",
   "metadata": {},
   "outputs": [
    {
     "data": {
      "text/plain": [
       "count                               4.192840e+05\n",
       "sending_count                       4.780000e+02\n",
       "receiving_count                     1.503000e+03\n",
       "active_count                        1.664000e+03\n",
       "new_non_zero_count                  1.044000e+03\n",
       "transfers_count                     2.280000e+03\n",
       "transfers_rate                      2.638889e-02\n",
       "transfers_volume_sum                3.077416e+05\n",
       "transfers_volume_mean               1.349744e+02\n",
       "transfers_volume_median             7.042200e+00\n",
       "proof_of_reserves                   1.723056e+06\n",
       "current                             1.409319e+07\n",
       "price_usd                           6.259073e+01\n",
       "price_usd_close                     6.259073e+01\n",
       "price_drawdown_relative            -9.070486e-01\n",
       "marketcap_usd                       8.715431e+08\n",
       "uniswap_transaction_count           4.000000e+00\n",
       "uniswap_liquidity_latest            1.579473e+03\n",
       "uniswap_volume_sum                  8.709247e+00\n",
       "count_return                        0.000000e+00\n",
       "sending_count_return                0.000000e+00\n",
       "receiving_count_return              0.000000e+00\n",
       "active_count_return                 0.000000e+00\n",
       "new_non_zero_count_return           0.000000e+00\n",
       "transfers_count_return              0.000000e+00\n",
       "transfers_rate_return               0.000000e+00\n",
       "transfers_volume_sum_return         0.000000e+00\n",
       "transfers_volume_mean_return        0.000000e+00\n",
       "transfers_volume_median_return      0.000000e+00\n",
       "proof_of_reserves_return            0.000000e+00\n",
       "current_return                      0.000000e+00\n",
       "price_usd_return                    1.211654e-02\n",
       "price_usd_close_return              1.211654e-02\n",
       "price_drawdown_relative_return     -0.000000e+00\n",
       "marketcap_usd_return                0.000000e+00\n",
       "uniswap_transaction_count_return    0.000000e+00\n",
       "uniswap_liquidity_latest_return     0.000000e+00\n",
       "uniswap_volume_sum_return           0.000000e+00\n",
       "Name: 2022-12-14 00:00:00, dtype: float64"
      ]
     },
     "execution_count": 602,
     "metadata": {},
     "output_type": "execute_result"
    }
   ],
   "source": [
    "gn_dict_clean['AAVE'].iloc[-1, :]"
   ]
  },
  {
   "cell_type": "code",
   "execution_count": 612,
   "id": "3e4c9b72",
   "metadata": {},
   "outputs": [
    {
     "data": {
      "text/plain": [
       "date\n",
       "2020-10-02      0.516571\n",
       "2020-10-16     39.495845\n",
       "2020-10-30     31.276711\n",
       "2020-11-13     63.399343\n",
       "2020-11-27     60.794006\n",
       "2020-12-11     74.898497\n",
       "2020-12-25     79.621461\n",
       "2021-01-08    111.568061\n",
       "2021-01-22    188.279629\n",
       "2021-02-05    506.772642\n",
       "2021-02-19    422.039147\n",
       "2021-03-05    366.963879\n",
       "2021-03-19    369.383811\n",
       "2021-04-02    406.417384\n",
       "2021-04-16    442.160999\n",
       "2021-04-30    444.882432\n",
       "2021-05-14    594.830717\n",
       "2021-05-28    321.063716\n",
       "2021-06-11    284.469973\n",
       "2021-06-25    187.121312\n",
       "2021-07-09    305.169621\n",
       "2021-07-23    289.905153\n",
       "2021-08-06    369.911465\n",
       "2021-08-20    409.029681\n",
       "2021-09-03    394.594889\n",
       "2021-09-17    353.296222\n",
       "2021-10-01    302.401043\n",
       "2021-10-15    301.155658\n",
       "2021-10-29    327.477043\n",
       "2021-11-12    308.603332\n",
       "2021-11-26    232.179260\n",
       "2021-12-10    167.838455\n",
       "2021-12-24    269.828337\n",
       "2022-01-07    210.540992\n",
       "2022-01-21    169.733789\n",
       "2022-02-04    166.360150\n",
       "2022-02-18    145.916902\n",
       "2022-03-04    124.000343\n",
       "2022-03-18    160.933015\n",
       "2022-04-01    245.560536\n",
       "2022-04-15    175.917030\n",
       "2022-04-29    157.003578\n",
       "2022-05-13     82.052548\n",
       "2022-05-27     92.211911\n",
       "2022-06-10     87.061135\n",
       "2022-06-24     71.906459\n",
       "2022-07-08     73.164414\n",
       "2022-07-22     89.601432\n",
       "2022-08-05    102.418017\n",
       "2022-08-19     83.591393\n",
       "2022-09-02     88.052529\n",
       "2022-09-16     79.170582\n",
       "2022-09-30     74.512304\n",
       "2022-10-14     72.983465\n",
       "2022-10-28     84.206180\n",
       "2022-11-11     63.841810\n",
       "2022-11-25     59.028560\n",
       "2022-12-09     61.411958\n",
       "Freq: 14D, Name: price_usd, dtype: float64"
      ]
     },
     "execution_count": 612,
     "metadata": {},
     "output_type": "execute_result"
    }
   ],
   "source": [
    "gn_dict_clean['AAVE']['price_usd'][::14]"
   ]
  },
  {
   "cell_type": "code",
   "execution_count": 610,
   "id": "7dfe7d57",
   "metadata": {},
   "outputs": [
    {
     "data": {
      "text/plain": [
       "<AxesSubplot:xlabel='date'>"
      ]
     },
     "execution_count": 610,
     "metadata": {},
     "output_type": "execute_result"
    },
    {
     "data": {
      "image/png": "[encoded data removed]",
      "text/plain": [
       "<Figure size 432x288 with 1 Axes>"
      ]
     },
     "metadata": {
      "needs_background": "light"
     },
     "output_type": "display_data"
    }
   ],
   "source": [
    "gn_dict_clean['AAVE']['price_usd_close'].plot()"
   ]
  },
  {
   "cell_type": "code",
   "execution_count": 613,
   "id": "e0b971a1",
   "metadata": {},
   "outputs": [
    {
     "data": {
      "text/plain": [
       "(Timestamp('2022-12-01 00:00:00'), Timestamp('2020-11-09 23:00:00'))"
      ]
     },
     "execution_count": 613,
     "metadata": {},
     "output_type": "execute_result"
    }
   ],
   "source": [
    "end_date, start_date"
   ]
  },
  {
   "cell_type": "code",
   "execution_count": 658,
   "id": "5b1bd6b1",
   "metadata": {},
   "outputs": [
    {
     "name": "stderr",
     "output_type": "stream",
     "text": [
      "100%|███████████████████████████████████████████| 12/12 [00:00<00:00, 23.54it/s]"
     ]
    },
    {
     "name": "stdout",
     "output_type": "stream",
     "text": [
      "DODO 0\n",
      "SUSHI 0\n",
      "BAL 0\n",
      "SNX 0\n",
      "MKR 0\n",
      "AAVE 0\n",
      "CRV 0\n",
      "UNI 0\n",
      "COMP 0\n",
      "YFI 0\n",
      "LRC 0\n",
      "REN 0\n"
     ]
    },
    {
     "name": "stderr",
     "output_type": "stream",
     "text": [
      "\n"
     ]
    }
   ],
   "source": [
    "### Return features engineering\n",
    "\n",
    "rolling = {}\n",
    "windows = [2, 4, 7, 14, 30, 90, 180] # , 90, 180, 360\n",
    "columns = ['price_usd_return'] # , 'active_count_return', 'transfers_rate'\n",
    "for final in tqdm.tqdm(finals):\n",
    "    cs = []\n",
    "    gn = gn_dict_clean[final].query(f'date < \"{end_date}\"')\n",
    "    gn.index = gn.index.round('D')\n",
    "    gn = gn.reindex(idx, method='ffill')\n",
    "    gn = gn.query(f'date >= \"{start_date}\"')\n",
    "    for window in windows:\n",
    "        cs.append(gn.rolling(window).mean().ffill().fillna(0)[columns])\n",
    "#         cs.append(tvl.rolling(window).mean().ffill().fillna(0)['TVL_return'])\n",
    "    rolling[final] = pd.concat(cs, axis=1)\n",
    "    \n",
    "for final in finals:\n",
    "    rolling[final].dropna(how='all', inplace=True)\n",
    "    print(final, rolling[final].isna().any().sum())"
   ]
  },
  {
   "cell_type": "code",
   "execution_count": 393,
   "id": "ccf20e03",
   "metadata": {},
   "outputs": [
    {
     "data": {
      "text/plain": [
       "(751, 16)"
      ]
     },
     "execution_count": 393,
     "metadata": {},
     "output_type": "execute_result"
    }
   ],
   "source": [
    "rolling['AAVE'].shape"
   ]
  },
  {
   "cell_type": "markdown",
   "id": "ca6b2297",
   "metadata": {},
   "source": [
    "# Clustering Lab"
   ]
  },
  {
   "cell_type": "code",
   "execution_count": 659,
   "id": "9669bafc",
   "metadata": {},
   "outputs": [],
   "source": [
    "sample_date = '2022-01-01'\n",
    "sample_dict = {}\n",
    "for final in finals:\n",
    "    sample_dict[final] = rolling[final].query(f'date == \"{sample_date}\"')\n",
    "sample = []\n",
    "for k, v in sample_dict.items():\n",
    "    v.index = [k]\n",
    "    sample.append(v)\n",
    "sample = pd.concat(sample)\n",
    "sample = (sample-sample.mean())/sample.std()\n",
    "sample.fillna(0, inplace=True)"
   ]
  },
  {
   "cell_type": "code",
   "execution_count": 660,
   "id": "c8d0c386",
   "metadata": {},
   "outputs": [
    {
     "data": {
      "text/html": [
       "<div>\n",
       "<style scoped>\n",
       "    .dataframe tbody tr th:only-of-type {\n",
       "        vertical-align: middle;\n",
       "    }\n",
       "\n",
       "    .dataframe tbody tr th {\n",
       "        vertical-align: top;\n",
       "    }\n",
       "\n",
       "    .dataframe thead th {\n",
       "        text-align: right;\n",
       "    }\n",
       "</style>\n",
       "<table border=\"1\" class=\"dataframe\">\n",
       "  <thead>\n",
       "    <tr style=\"text-align: right;\">\n",
       "      <th></th>\n",
       "      <th>price_usd_return</th>\n",
       "      <th>price_usd_return</th>\n",
       "      <th>price_usd_return</th>\n",
       "      <th>price_usd_return</th>\n",
       "      <th>price_usd_return</th>\n",
       "      <th>price_usd_return</th>\n",
       "      <th>price_usd_return</th>\n",
       "    </tr>\n",
       "  </thead>\n",
       "  <tbody>\n",
       "    <tr>\n",
       "      <th>DODO</th>\n",
       "      <td>-0.396792</td>\n",
       "      <td>-0.814313</td>\n",
       "      <td>-0.672462</td>\n",
       "      <td>-0.754434</td>\n",
       "      <td>-1.351714</td>\n",
       "      <td>-0.50716</td>\n",
       "      <td>-0.049302</td>\n",
       "    </tr>\n",
       "  </tbody>\n",
       "</table>\n",
       "</div>"
      ],
      "text/plain": [
       "      price_usd_return  price_usd_return  price_usd_return  price_usd_return  \\\n",
       "DODO         -0.396792         -0.814313         -0.672462         -0.754434   \n",
       "\n",
       "      price_usd_return  price_usd_return  price_usd_return  \n",
       "DODO         -1.351714          -0.50716         -0.049302  "
      ]
     },
     "execution_count": 660,
     "metadata": {},
     "output_type": "execute_result"
    }
   ],
   "source": [
    "sample.head(1)"
   ]
  },
  {
   "cell_type": "code",
   "execution_count": 661,
   "id": "d89abfb7",
   "metadata": {},
   "outputs": [
    {
     "data": {
      "text/plain": [
       "array([0.48981443, 0.27376651, 0.18469849, 0.03212441, 0.01503845,\n",
       "       0.00362126, 0.00093644])"
      ]
     },
     "execution_count": 661,
     "metadata": {},
     "output_type": "execute_result"
    }
   ],
   "source": [
    "pca = PCA(svd_solver='full', n_components=7)\n",
    "sample_pca = pca.fit_transform(sample)\n",
    "pca.explained_variance_ratio_"
   ]
  },
  {
   "cell_type": "code",
   "execution_count": 619,
   "id": "0150c0b1",
   "metadata": {},
   "outputs": [
    {
     "data": {
      "text/plain": [
       "array([0.44524176, 0.73754998, 0.91852424, 0.96207281, 0.98322608,\n",
       "       0.99616943, 0.99929001, 1.        ])"
      ]
     },
     "execution_count": 619,
     "metadata": {},
     "output_type": "execute_result"
    }
   ],
   "source": [
    "pca.explained_variance_ratio_.cumsum()"
   ]
  },
  {
   "cell_type": "code",
   "execution_count": 539,
   "id": "6a8baceb",
   "metadata": {},
   "outputs": [],
   "source": [
    "X_embedded = TSNE(n_components=3, learning_rate='auto', init='random', perplexity=3).fit_transform(sample_pca)\n",
    "fig = px.scatter_3d(x=X_embedded[:, 0], y=X_embedded[:, 1], z=X_embedded[:, 2], color=sample.index)\n",
    "fig.show()"
   ]
  },
  {
   "cell_type": "code",
   "execution_count": 137,
   "id": "6b989654",
   "metadata": {},
   "outputs": [
    {
     "name": "stdout",
     "output_type": "stream",
     "text": [
      "0.09298569257361826 0.15165955447413917\n"
     ]
    }
   ],
   "source": [
    "clusters = 6\n",
    "model = AgglomerativeClustering(n_clusters=clusters, affinity='euclidean', linkage='ward', compute_distances=True)\n",
    "model.fit(sample)\n",
    "labels = model.labels_\n",
    "\n",
    "label_counter = Counter(labels)\n",
    "# calculate average intra-cluster cointergration score\n",
    "adfs = []\n",
    "for k, v in label_counter.items():\n",
    "    if v < 2:\n",
    "        continue\n",
    "    symbols = sample.index[labels==k]\n",
    "    for symbol1, symbol2 in itertools.combinations(symbols, 2):\n",
    "        a = gn_dict_clean[symbol1].query(f'date < \"2021-11-01\" and date > \"2021-01-01\"')['price_usd']\n",
    "        b = gn_dict_clean[symbol2].query(f'date < \"2021-11-01\" and date > \"2021-01-01\"')['price_usd']\n",
    "        _spread = a-b\n",
    "        adf = sm.tsa.stattools.adfuller(_spread, maxlag=1)\n",
    "        adfs.append(adf[1])\n",
    "intra_adf = sum(adfs)/len(adfs)\n",
    "\n",
    "# calculate average inter-cluster cointergration score\n",
    "adfs = []\n",
    "for cluster1, cluster2 in itertools.combinations(label_counter.keys(), 2):\n",
    "    symbols1 = sample.index[labels==cluster1]\n",
    "    symbols2 = sample.index[labels==cluster2]\n",
    "    for symbol1, symbol2 in product(symbols1, symbols2):\n",
    "        a = gn_dict_clean[symbol1].query(f'date < \"2021-11-01\" and date > \"2021-01-01\"')['price_usd']\n",
    "        b = gn_dict_clean[symbol2].query(f'date < \"2021-11-01\" and date > \"2021-01-01\"')['price_usd']\n",
    "        _spread = a-b\n",
    "        adf = sm.tsa.stattools.adfuller(_spread, maxlag=1)\n",
    "        adfs.append(adf[1])\n",
    "inter_adf = sum(adfs)/len(adfs)\n",
    "\n",
    "print(intra_adf, inter_adf)"
   ]
  },
  {
   "cell_type": "code",
   "execution_count": 541,
   "id": "210c3193",
   "metadata": {},
   "outputs": [],
   "source": [
    "start = '2021-01-01'\n",
    "end = '2022-01-01'"
   ]
  },
  {
   "cell_type": "code",
   "execution_count": 542,
   "id": "9a96473a",
   "metadata": {},
   "outputs": [
    {
     "name": "stdout",
     "output_type": "stream",
     "text": [
      "39 0.22112538222998118 27 0.2713021095631782\n",
      "21 0.22931127403777338 45 0.26054862194939143\n",
      "19 0.24842129331077953 47 0.22666727185119379\n",
      "14 0.23999013645915587 52 0.23102893152851411\n",
      "12 0.20705559846305324 54 0.2692201758996872\n",
      "6 0.23058504907066435 60 0.2612644192335878\n",
      "5 0.19506224093627375 61 0.26128453761728404\n"
     ]
    }
   ],
   "source": [
    "def reg(x,y):\n",
    "    regr = linear_model.LinearRegression()\n",
    "    x_constant = pd.concat([x], axis=1)\n",
    "    regr.fit(x_constant, y)    \n",
    "    beta = regr.coef_[0]\n",
    "    alpha = regr.intercept_\n",
    "    spread = y - x*beta - alpha\n",
    "    return spread\n",
    "\n",
    "for clusters in range(2, 9):\n",
    "    model = AgglomerativeClustering(n_clusters=clusters, affinity='euclidean', linkage='complete')\n",
    "    model.fit(sample_pca)\n",
    "    labels = model.labels_\n",
    "#     print(labels)\n",
    "\n",
    "    label_counter = Counter(labels)\n",
    "    # calculate average intra-cluster cointergration score\n",
    "    adfs = []\n",
    "    for k, v in label_counter.items():\n",
    "        if v < 2:\n",
    "            continue\n",
    "        symbols = sample.index[labels==k]\n",
    "        for symbol1, symbol2 in itertools.combinations(symbols, 2):\n",
    "#             print('intra', symbol1, symbol2)\n",
    "            a = gn_dict_clean[symbol1].query(f'date < \"{end}\" and date > \"{start}\"')['price_usd']\n",
    "            b = gn_dict_clean[symbol2].query(f'date < \"{end}\" and date > \"{start}\"')['price_usd']\n",
    "            _spread = reg(a, b)\n",
    "            adf = sm.tsa.stattools.adfuller(_spread, maxlag=1)\n",
    "            adfs.append(adf[1])\n",
    "    intra_adf = sum(adfs)/len(adfs)\n",
    "    intra_pair = len(adfs)\n",
    "\n",
    "    # calculate average inter-cluster cointergration score\n",
    "    adfs = []\n",
    "    for cluster1, cluster2 in itertools.combinations(label_counter.keys(), 2):\n",
    "        symbols1 = sample.index[labels==cluster1]\n",
    "        symbols2 = sample.index[labels==cluster2]\n",
    "        for symbol1, symbol2 in product(symbols1, symbols2):\n",
    "#             print('inter', symbol1, symbol2)\n",
    "            a = gn_dict_clean[symbol1].query(f'date < \"{end}\" and date > \"{start}\"')['price_usd']\n",
    "            b = gn_dict_clean[symbol2].query(f'date < \"{end}\" and date > \"{start}\"')['price_usd']\n",
    "            _spread = reg(a, b)\n",
    "            adf = sm.tsa.stattools.adfuller(_spread, maxlag=1)\n",
    "            adfs.append(adf[1])\n",
    "    inter_adf = sum(adfs)/len(adfs)\n",
    "    inter_pair = len(adfs)\n",
    "\n",
    "    print(intra_pair, intra_adf, inter_pair, inter_adf)"
   ]
  },
  {
   "cell_type": "markdown",
   "id": "0af29154",
   "metadata": {},
   "source": [
    "### Pairs Selection Lab"
   ]
  },
  {
   "cell_type": "code",
   "execution_count": 603,
   "id": "e5a77d59",
   "metadata": {},
   "outputs": [
    {
     "data": {
      "text/plain": [
       "2"
      ]
     },
     "execution_count": 603,
     "metadata": {},
     "output_type": "execute_result"
    }
   ],
   "source": [
    "max(1, 2)"
   ]
  },
  {
   "cell_type": "code",
   "execution_count": 662,
   "id": "23a073ac",
   "metadata": {},
   "outputs": [],
   "source": [
    "start = '2021-01-01'\n",
    "end = '2022-01-01'"
   ]
  },
  {
   "cell_type": "code",
   "execution_count": 663,
   "id": "94571ff0",
   "metadata": {},
   "outputs": [
    {
     "name": "stdout",
     "output_type": "stream",
     "text": [
      "DODO 4\n",
      "SUSHI 5\n",
      "BAL 0\n",
      "SNX 0\n",
      "MKR 0\n",
      "AAVE 3\n",
      "CRV 1\n",
      "UNI 0\n",
      "COMP 0\n",
      "YFI 1\n",
      "LRC 2\n",
      "REN 4\n",
      "12 0.10544655561102774\n"
     ]
    }
   ],
   "source": [
    "# cluster-based selection\n",
    "clusters = 6\n",
    "model = AgglomerativeClustering(n_clusters=clusters, affinity='euclidean', linkage='complete')\n",
    "model.fit(sample_pca)\n",
    "labels = model.labels_\n",
    "for i, label in enumerate(labels):\n",
    "    print(sample.index[i], label)\n",
    "\n",
    "label_counter = Counter(labels)\n",
    "# calculate average intra-cluster cointergration score\n",
    "adfs = []\n",
    "pairs = []\n",
    "for k, v in label_counter.items():\n",
    "    if v < 2:\n",
    "        continue\n",
    "    symbols = sample.index[labels==k]\n",
    "    for symbol1, symbol2 in itertools.combinations(symbols, 2):\n",
    "        a = gn_dict_clean[symbol1].query(f'date < \"{end}\" and date > \"{start}\"')['price_usd']\n",
    "        b = gn_dict_clean[symbol2].query(f'date < \"{end}\" and date > \"{start}\"')['price_usd']\n",
    "        _spread = reg(a, b)\n",
    "        adf = sm.tsa.stattools.adfuller(_spread, maxlag=1)\n",
    "        adfs.append(adf[1])\n",
    "        pairs.append((symbol1, symbol2))\n",
    "intra_adf = sum(adfs)/len(adfs)\n",
    "intra_pair = len(adfs)\n",
    "print(intra_pair, intra_adf)"
   ]
  },
  {
   "cell_type": "code",
   "execution_count": 664,
   "id": "3af8c320",
   "metadata": {},
   "outputs": [
    {
     "name": "stdout",
     "output_type": "stream",
     "text": [
      "('BAL', 'UNI') 0.025201268289045002\n",
      "('CRV', 'YFI') 0.02926095946812243\n",
      "('SNX', 'MKR') 0.06938410890599055\n"
     ]
    }
   ],
   "source": [
    "counter = 0\n",
    "unique = set()\n",
    "selected_pairs = {}\n",
    "for i in np.argsort(adfs):\n",
    "    if pairs[i][0] in unique or pairs[i][1] in unique:\n",
    "        continue\n",
    "    counter += 1\n",
    "    print(pairs[i], adfs[i])\n",
    "    unique.add(pairs[i][0])\n",
    "    unique.add(pairs[i][1])\n",
    "    selected_pairs[pairs[i][0]] = pairs[i][1]\n",
    "    if counter == 3:\n",
    "        break"
   ]
  },
  {
   "cell_type": "code",
   "execution_count": 497,
   "id": "028257ec",
   "metadata": {},
   "outputs": [
    {
     "data": {
      "text/plain": [
       "<AxesSubplot:xlabel='date'>"
      ]
     },
     "execution_count": 497,
     "metadata": {},
     "output_type": "execute_result"
    },
    {
     "data": {
      "image/png": "[encoded data removed]",
      "text/plain": [
       "<Figure size 432x288 with 1 Axes>"
      ]
     },
     "metadata": {
      "needs_background": "light"
     },
     "output_type": "display_data"
    }
   ],
   "source": [
    "a = gn_dict_clean['SNX']['price_usd']\n",
    "b = gn_dict_clean['LRC']['price_usd']\n",
    "a = (a-a.mean())/a.std()\n",
    "b = (b-b.mean())/b.std()\n",
    "a.plot()\n",
    "b.plot()"
   ]
  },
  {
   "cell_type": "code",
   "execution_count": 383,
   "id": "f799f7b3",
   "metadata": {},
   "outputs": [
    {
     "name": "stdout",
     "output_type": "stream",
     "text": [
      "0.005895103920637685\n"
     ]
    }
   ],
   "source": [
    "a = gn_dict_clean['COMP'].query(f'date < \"{end}\" and date > \"{start}\"')['price_usd']\n",
    "b = gn_dict_clean['AAVE'].query(f'date < \"{end}\" and date > \"{start}\"')['price_usd']\n",
    "_spread = reg(a, b)\n",
    "adf = sm.tsa.stattools.adfuller(_spread, maxlag=1)\n",
    "print(adf[1])"
   ]
  },
  {
   "cell_type": "code",
   "execution_count": 481,
   "id": "e222bb50",
   "metadata": {},
   "outputs": [],
   "source": [
    "selected_pairs = {'COMP':'AAVE'} # 'LRC': 'REN'"
   ]
  },
  {
   "cell_type": "code",
   "execution_count": 665,
   "id": "8ee0b8e4",
   "metadata": {},
   "outputs": [],
   "source": [
    "with open('./pairs', 'wb') as f:\n",
    "    pickle.dump(selected_pairs, f)"
   ]
  },
  {
   "cell_type": "code",
   "execution_count": 558,
   "id": "bb79d73b",
   "metadata": {},
   "outputs": [],
   "source": [
    "start = '2021-01-01'\n",
    "end = '2021-12-01'"
   ]
  },
  {
   "cell_type": "code",
   "execution_count": 559,
   "id": "756aade7",
   "metadata": {},
   "outputs": [
    {
     "name": "stdout",
     "output_type": "stream",
     "text": [
      "66 0.2585239234122084\n"
     ]
    }
   ],
   "source": [
    "# cointegration-based selection\n",
    "adfs = []\n",
    "pairs = []\n",
    "\n",
    "for symbol1, symbol2 in itertools.combinations(finals, 2):\n",
    "    a = gn_dict_clean[symbol1].query(f'date < \"{end}\" and date > \"{start}\"')['price_usd']\n",
    "    b = gn_dict_clean[symbol2].query(f'date < \"{end}\" and date > \"{start}\"')['price_usd']\n",
    "    _spread = reg(a, b)\n",
    "    adf = sm.tsa.stattools.adfuller(_spread, maxlag=1)\n",
    "    adfs.append(adf[1])\n",
    "    pairs.append((symbol1, symbol2))\n",
    "all_adf = sum(adfs)/len(adfs)\n",
    "all_pair = len(adfs)\n",
    "print(all_pair, all_adf)"
   ]
  },
  {
   "cell_type": "code",
   "execution_count": 560,
   "id": "a5037f94",
   "metadata": {},
   "outputs": [
    {
     "name": "stdout",
     "output_type": "stream",
     "text": [
      "('DODO', 'SUSHI') 7.891828227578653e-05\n",
      "('COMP', 'YFI') 0.001867324649455261\n",
      "('BAL', 'AAVE') 0.003073082365229707\n"
     ]
    }
   ],
   "source": [
    "counter = 0\n",
    "unique = set()\n",
    "selected_pairs = {}\n",
    "for i in np.argsort(adfs):\n",
    "    if pairs[i][0] in unique or pairs[i][1] in unique:\n",
    "        continue\n",
    "    counter += 1\n",
    "    print(pairs[i], adfs[i])\n",
    "    unique.add(pairs[i][0])\n",
    "    unique.add(pairs[i][1])\n",
    "    selected_pairs[pairs[i][0]] = pairs[i][1]\n",
    "    if counter == 3:\n",
    "        break"
   ]
  },
  {
   "cell_type": "code",
   "execution_count": 362,
   "id": "7f502818",
   "metadata": {},
   "outputs": [
    {
     "data": {
      "text/plain": [
       "{'MKR': 'LRC', 'BAL': 'CRV', 'DODO': 'SUSHI'}"
      ]
     },
     "execution_count": 362,
     "metadata": {},
     "output_type": "execute_result"
    }
   ],
   "source": [
    "selected_pairs"
   ]
  },
  {
   "cell_type": "code",
   "execution_count": 429,
   "id": "014e94d8",
   "metadata": {},
   "outputs": [],
   "source": [
    "with open('./pairs', 'wb') as f:\n",
    "    pickle.dump(selected_pairs, f)"
   ]
  },
  {
   "cell_type": "code",
   "execution_count": null,
   "id": "fc6f8486",
   "metadata": {},
   "outputs": [],
   "source": []
  },
  {
   "cell_type": "code",
   "execution_count": 311,
   "id": "2726ea48",
   "metadata": {},
   "outputs": [
    {
     "data": {
      "text/plain": [
       "{1, 2, 3}"
      ]
     },
     "execution_count": 311,
     "metadata": {},
     "output_type": "execute_result"
    }
   ],
   "source": [
    "set(list({1:2, 2:3}.keys()) + list({1:2, 2:3}.values()))"
   ]
  },
  {
   "cell_type": "code",
   "execution_count": null,
   "id": "31e92231",
   "metadata": {},
   "outputs": [],
   "source": []
  },
  {
   "cell_type": "code",
   "execution_count": 731,
   "id": "afe680d8",
   "metadata": {},
   "outputs": [
    {
     "name": "stdout",
     "output_type": "stream",
     "text": [
      "ADF test statistic: -3.19\n",
      "\t1%: -3.452\n",
      "\t5%: -2.871\n",
      "\t10%: -2.572\n",
      "p-value: 0.021\n"
     ]
    },
    {
     "data": {
      "image/png": "[encoded data removed]",
      "text/plain": [
       "<Figure size 432x288 with 1 Axes>"
      ]
     },
     "metadata": {
      "needs_background": "light"
     },
     "output_type": "display_data"
    }
   ],
   "source": [
    "a = gn_dict_clean['DODO'].query(f'date < \"2021-11-01\" and date > \"2021-01-01\"')['price_usd']\n",
    "b = gn_dict_clean['SUSHI'].query(f'date < \"2021-11-01\" and date > \"2021-01-01\"')['price_usd']\n",
    "n_spread = a-b\n",
    "n_spread.plot()\n",
    "adf = sm.tsa.stattools.adfuller(n_spread, maxlag=1)\n",
    "print('ADF test statistic: %.02f' % adf[0])\n",
    "for key, value in adf[4].items():\n",
    "    print('\\t%s: %.3f' % (key, value))\n",
    "print('p-value: %.03f' % adf[1])"
   ]
  },
  {
   "cell_type": "code",
   "execution_count": 736,
   "id": "a4abd70c",
   "metadata": {},
   "outputs": [
    {
     "name": "stdout",
     "output_type": "stream",
     "text": [
      "ADF test statistic: -2.49\n",
      "\t1%: -3.452\n",
      "\t5%: -2.871\n",
      "\t10%: -2.572\n",
      "p-value: 0.117\n"
     ]
    },
    {
     "data": {
      "image/png": "[encoded data removed]",
      "text/plain": [
       "<Figure size 432x288 with 1 Axes>"
      ]
     },
     "metadata": {
      "needs_background": "light"
     },
     "output_type": "display_data"
    }
   ],
   "source": [
    "a = gn_dict_clean['MKR'].query(f'date < \"2021-11-01\" and date > \"2021-01-01\"')['price_usd']\n",
    "b = gn_dict_clean['COMP'].query(f'date < \"2021-11-01\" and date > \"2021-01-01\"')['price_usd']\n",
    "n_spread = a-b\n",
    "n_spread.plot()\n",
    "adf = sm.tsa.stattools.adfuller(n_spread, maxlag=1)\n",
    "print('ADF test statistic: %.02f' % adf[0])\n",
    "for key, value in adf[4].items():\n",
    "    print('\\t%s: %.3f' % (key, value))\n",
    "print('p-value: %.03f' % adf[1])"
   ]
  }
 ],
 "metadata": {
  "kernelspec": {
   "display_name": "Python 3 (ipykernel)",
   "language": "python",
   "name": "python3"
  },
  "language_info": {
   "codemirror_mode": {
    "name": "ipython",
    "version": 3
   },
   "file_extension": ".py",
   "mimetype": "text/x-python",
   "name": "python",
   "nbconvert_exporter": "python",
   "pygments_lexer": "ipython3",
   "version": "3.9.12"
  }
 },
 "nbformat": 4,
 "nbformat_minor": 5
}
